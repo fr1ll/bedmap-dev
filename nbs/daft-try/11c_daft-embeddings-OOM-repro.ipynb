{
 "cells": [
  {
   "cell_type": "code",
   "execution_count": 1,
   "metadata": {},
   "outputs": [],
   "source": [
    "# |default_exp daft_embeddings"
   ]
  },
  {
   "cell_type": "code",
   "execution_count": 2,
   "metadata": {},
   "outputs": [],
   "source": [
    "# | hide\n",
    "%load_ext autoreload\n",
    "%autoreload 2"
   ]
  },
  {
   "cell_type": "code",
   "execution_count": 1,
   "metadata": {},
   "outputs": [
    {
     "name": "stderr",
     "output_type": "stream",
     "text": [
      "/home/willsa/git/bedmap-dev/.venv/lib/python3.12/site-packages/tqdm/auto.py:21: TqdmWarning: IProgress not found. Please update jupyter and ipywidgets. See https://ipywidgets.readthedocs.io/en/stable/user_install.html\n",
      "  from .autonotebook import tqdm as notebook_tqdm\n"
     ]
    }
   ],
   "source": [
    "#| export\n",
    "\n",
    "import daft\n",
    "import timm\n",
    "import torch\n",
    "import numpy as np\n",
    "from PIL import Image\n",
    "from pathlib import Path\n",
    "from einops import rearrange\n",
    "from dataclasses import dataclass, field\n",
    "from typing import Callable"
   ]
  },
  {
   "cell_type": "code",
   "execution_count": 2,
   "metadata": {},
   "outputs": [
    {
     "data": {
      "text/plain": [
       "DaftContext(_daft_execution_config=<daft.daft.PyDaftExecutionConfig object at 0x7faca4a81130>, _daft_planning_config=<daft.daft.PyDaftPlanningConfig object at 0x7faca4a81410>, _runner=None)"
      ]
     },
     "execution_count": 2,
     "metadata": {},
     "output_type": "execute_result"
    }
   ],
   "source": [
    "#| export\n",
    "\n",
    "daft.set_execution_config(enable_native_executor=True,\n",
    "                          default_morsel_size=50)"
   ]
  },
  {
   "cell_type": "code",
   "execution_count": 4,
   "metadata": {},
   "outputs": [
    {
     "name": "stdout",
     "output_type": "stream",
     "text": [
      "Starting the downloading of this file\n",
      "Sharding file number 1 of 1 called https://storage.googleapis.com/openimages/2018_04/train/train-images-boxable.csv\n"
     ]
    },
    {
     "name": "stderr",
     "output_type": "stream",
     "text": [
      "0it [00:00, ?it/s]"
     ]
    },
    {
     "name": "stdout",
     "output_type": "stream",
     "text": [
      "File sharded in 175 shards\n",
      "Downloading starting now, check your bandwidth speed (with bwm-ng)your cpu (with htop), and your disk usage (with iotop)!\n"
     ]
    },
    {
     "name": "stderr",
     "output_type": "stream",
     "text": [
      "26it [00:47,  1.01it/s]"
     ]
    },
    {
     "name": "stdout",
     "output_type": "stream",
     "text": [
      "worker  - success: 0.000 - failed to download: 1.000 - failed to resize: 0.000 - images per sec: 7187 - count: 10000\n",
      "total   - success: 0.000 - failed to download: 1.000 - failed to resize: 0.000 - images per sec: 7187 - count: 10000\n",
      "worker  - success: 0.000 - failed to download: 1.000 - failed to resize: 0.000 - images per sec: 7420 - count: 10000\n",
      "total   - success: 0.000 - failed to download: 1.000 - failed to resize: 0.000 - images per sec: 14332 - count: 20000\n",
      "worker  - success: 0.000 - failed to download: 1.000 - failed to resize: 0.000 - images per sec: 7299 - count: 10000\n",
      "total   - success: 0.000 - failed to download: 1.000 - failed to resize: 0.000 - images per sec: 21421 - count: 30000\n",
      "worker  - success: 0.000 - failed to download: 1.000 - failed to resize: 0.000 - images per sec: 7785 - count: 10000\n",
      "total   - success: 0.000 - failed to download: 1.000 - failed to resize: 0.000 - images per sec: 14658 - count: 40000\n",
      "worker  - success: 0.000 - failed to download: 1.000 - failed to resize: 0.000 - images per sec: 6504 - count: 10000\n",
      "total   - success: 0.000 - failed to download: 1.000 - failed to resize: 0.000 - images per sec: 11596 - count: 50000\n",
      "worker  - success: 0.000 - failed to download: 1.000 - failed to resize: 0.000 - images per sec: 6456 - count: 10000\n",
      "total   - success: 0.000 - failed to download: 1.000 - failed to resize: 0.000 - images per sec: 13914 - count: 60000\n",
      "worker  - success: 0.000 - failed to download: 1.000 - failed to resize: 0.000 - images per sec: 7271 - count: 10000\n",
      "total   - success: 0.000 - failed to download: 1.000 - failed to resize: 0.000 - images per sec: 16233 - count: 70000\n",
      "worker  - success: 0.000 - failed to download: 1.000 - failed to resize: 0.000 - images per sec: 6397 - count: 10000\n",
      "total   - success: 0.000 - failed to download: 1.000 - failed to resize: 0.000 - images per sec: 18545 - count: 80000\n",
      "worker  - success: 0.000 - failed to download: 1.000 - failed to resize: 0.000 - images per sec: 7824 - count: 10000\n",
      "total   - success: 0.000 - failed to download: 1.000 - failed to resize: 0.000 - images per sec: 20863 - count: 90000\n",
      "worker  - success: 0.000 - failed to download: 1.000 - failed to resize: 0.000 - images per sec: 6746 - count: 10000\n",
      "total   - success: 0.000 - failed to download: 1.000 - failed to resize: 0.000 - images per sec: 23181 - count: 100000\n"
     ]
    },
    {
     "name": "stderr",
     "output_type": "stream",
     "text": [
      "36it [00:48,  1.80it/s]"
     ]
    },
    {
     "name": "stdout",
     "output_type": "stream",
     "text": [
      "worker  - success: 0.000 - failed to download: 1.000 - failed to resize: 0.000 - images per sec: 6420 - count: 10000\n",
      "total   - success: 0.000 - failed to download: 1.000 - failed to resize: 0.000 - images per sec: 25499 - count: 110000\n",
      "worker  - success: 0.000 - failed to download: 1.000 - failed to resize: 0.000 - images per sec: 6514 - count: 10000\n",
      "total   - success: 0.000 - failed to download: 1.000 - failed to resize: 0.000 - images per sec: 27817 - count: 120000\n",
      "worker  - success: 0.000 - failed to download: 1.000 - failed to resize: 0.000 - images per sec: 6535 - count: 10000\n",
      "total   - success: 0.000 - failed to download: 1.000 - failed to resize: 0.000 - images per sec: 30135 - count: 130000\n",
      "worker  - success: 0.000 - failed to download: 1.000 - failed to resize: 0.000 - images per sec: 7417 - count: 10000\n",
      "total   - success: 0.000 - failed to download: 1.000 - failed to resize: 0.000 - images per sec: 32454 - count: 140000\n",
      "worker  - success: 0.000 - failed to download: 1.000 - failed to resize: 0.000 - images per sec: 7505 - count: 10000\n",
      "total   - success: 0.000 - failed to download: 1.000 - failed to resize: 0.000 - images per sec: 34772 - count: 150000\n",
      "worker  - success: 0.000 - failed to download: 1.000 - failed to resize: 0.000 - images per sec: 7794 - count: 10000\n",
      "total   - success: 0.000 - failed to download: 1.000 - failed to resize: 0.000 - images per sec: 37090 - count: 160000\n",
      "worker  - success: 0.000 - failed to download: 1.000 - failed to resize: 0.000 - images per sec: 7770 - count: 10000\n",
      "total   - success: 0.000 - failed to download: 1.000 - failed to resize: 0.000 - images per sec: 39408 - count: 170000\n",
      "worker  - success: 0.000 - failed to download: 1.000 - failed to resize: 0.000 - images per sec: 7359 - count: 10000\n",
      "total   - success: 0.000 - failed to download: 1.000 - failed to resize: 0.000 - images per sec: 41726 - count: 180000\n",
      "worker  - success: 0.000 - failed to download: 1.000 - failed to resize: 0.000 - images per sec: 6512 - count: 10000\n",
      "total   - success: 0.000 - failed to download: 1.000 - failed to resize: 0.000 - images per sec: 44044 - count: 190000\n",
      "worker  - success: 0.000 - failed to download: 1.000 - failed to resize: 0.000 - images per sec: 7529 - count: 10000\n",
      "total   - success: 0.000 - failed to download: 1.000 - failed to resize: 0.000 - images per sec: 45940 - count: 200000\n",
      "worker  - success: 0.000 - failed to download: 1.000 - failed to resize: 0.000 - images per sec: 7468 - count: 10000\n",
      "total   - success: 0.000 - failed to download: 1.000 - failed to resize: 0.000 - images per sec: 48237 - count: 210000\n",
      "worker  - success: 0.000 - failed to download: 1.000 - failed to resize: 0.000 - images per sec: 7571 - count: 10000\n",
      "total   - success: 0.000 - failed to download: 1.000 - failed to resize: 0.000 - images per sec: 50534 - count: 220000\n",
      "worker  - success: 0.000 - failed to download: 1.000 - failed to resize: 0.000 - images per sec: 7301 - count: 10000\n",
      "total   - success: 0.000 - failed to download: 1.000 - failed to resize: 0.000 - images per sec: 52831 - count: 230000\n",
      "worker  - success: 0.000 - failed to download: 1.000 - failed to resize: 0.000 - images per sec: 7555 - count: 10000\n",
      "total   - success: 0.000 - failed to download: 1.000 - failed to resize: 0.000 - images per sec: 54950 - count: 240000\n",
      "worker  - success: 0.000 - failed to download: 1.000 - failed to resize: 0.000 - images per sec: 8162 - count: 10000\n",
      "total   - success: 0.000 - failed to download: 1.000 - failed to resize: 0.000 - images per sec: 57239 - count: 250000\n",
      "worker  - success: 0.000 - failed to download: 1.000 - failed to resize: 0.000 - images per sec: 6400 - count: 10000\n",
      "total   - success: 0.000 - failed to download: 1.000 - failed to resize: 0.000 - images per sec: 59529 - count: 260000\n",
      "worker  - success: 0.000 - failed to download: 1.000 - failed to resize: 0.000 - images per sec: 8093 - count: 10000\n",
      "total   - success: 0.000 - failed to download: 1.000 - failed to resize: 0.000 - images per sec: 61819 - count: 270000\n",
      "worker  - success: 0.000 - failed to download: 1.000 - failed to resize: 0.000 - images per sec: 6408 - count: 10000\n",
      "total   - success: 0.000 - failed to download: 1.000 - failed to resize: 0.000 - images per sec: 64108 - count: 280000\n",
      "worker  - success: 0.000 - failed to download: 1.000 - failed to resize: 0.000 - images per sec: 7739 - count: 10000\n",
      "total   - success: 0.000 - failed to download: 1.000 - failed to resize: 0.000 - images per sec: 66398 - count: 290000\n",
      "worker  - success: 0.000 - failed to download: 1.000 - failed to resize: 0.000 - images per sec: 7854 - count: 10000\n",
      "total   - success: 0.000 - failed to download: 1.000 - failed to resize: 0.000 - images per sec: 68687 - count: 300000\n"
     ]
    },
    {
     "name": "stderr",
     "output_type": "stream",
     "text": [
      "48it [00:50,  3.59it/s]"
     ]
    },
    {
     "name": "stdout",
     "output_type": "stream",
     "text": [
      "worker  - success: 0.000 - failed to download: 1.000 - failed to resize: 0.000 - images per sec: 7692 - count: 10000\n",
      "total   - success: 0.000 - failed to download: 1.000 - failed to resize: 0.000 - images per sec: 54888 - count: 310000\n",
      "worker  - success: 0.000 - failed to download: 1.000 - failed to resize: 0.000 - images per sec: 7675 - count: 10000\n",
      "total   - success: 0.000 - failed to download: 1.000 - failed to resize: 0.000 - images per sec: 55934 - count: 320000\n",
      "worker  - success: 0.000 - failed to download: 1.000 - failed to resize: 0.000 - images per sec: 7133 - count: 10000\n",
      "total   - success: 0.000 - failed to download: 1.000 - failed to resize: 0.000 - images per sec: 46529 - count: 330000\n",
      "worker  - success: 0.000 - failed to download: 1.000 - failed to resize: 0.000 - images per sec: 7135 - count: 10000\n",
      "total   - success: 0.000 - failed to download: 1.000 - failed to resize: 0.000 - images per sec: 47939 - count: 340000\n",
      "worker  - success: 0.000 - failed to download: 1.000 - failed to resize: 0.000 - images per sec: 7695 - count: 10000\n",
      "total   - success: 0.000 - failed to download: 1.000 - failed to resize: 0.000 - images per sec: 49349 - count: 350000\n",
      "worker  - success: 0.000 - failed to download: 1.000 - failed to resize: 0.000 - images per sec: 7308 - count: 10000\n",
      "total   - success: 0.000 - failed to download: 1.000 - failed to resize: 0.000 - images per sec: 50759 - count: 360000\n",
      "worker  - success: 0.000 - failed to download: 1.000 - failed to resize: 0.000 - images per sec: 7015 - count: 10000\n",
      "total   - success: 0.000 - failed to download: 1.000 - failed to resize: 0.000 - images per sec: 51981 - count: 370000\n",
      "worker  - success: 0.000 - failed to download: 1.000 - failed to resize: 0.000 - images per sec: 6718 - count: 10000\n",
      "total   - success: 0.000 - failed to download: 1.000 - failed to resize: 0.000 - images per sec: 52340 - count: 380000\n",
      "worker  - success: 0.000 - failed to download: 1.000 - failed to resize: 0.000 - images per sec: 7118 - count: 10000\n",
      "total   - success: 0.000 - failed to download: 1.000 - failed to resize: 0.000 - images per sec: 53717 - count: 390000\n",
      "worker  - success: 0.000 - failed to download: 1.000 - failed to resize: 0.000 - images per sec: 7797 - count: 10000\n",
      "total   - success: 0.000 - failed to download: 1.000 - failed to resize: 0.000 - images per sec: 55094 - count: 400000\n",
      "worker  - success: 0.000 - failed to download: 1.000 - failed to resize: 0.000 - images per sec: 7886 - count: 10000\n",
      "total   - success: 0.000 - failed to download: 1.000 - failed to resize: 0.000 - images per sec: 56472 - count: 410000\n",
      "worker  - success: 0.000 - failed to download: 1.000 - failed to resize: 0.000 - images per sec: 7886 - count: 10000\n",
      "total   - success: 0.000 - failed to download: 1.000 - failed to resize: 0.000 - images per sec: 57849 - count: 420000\n",
      "worker  - success: 0.000 - failed to download: 1.000 - failed to resize: 0.000 - images per sec: 7693 - count: 10000\n",
      "total   - success: 0.000 - failed to download: 1.000 - failed to resize: 0.000 - images per sec: 59226 - count: 430000\n",
      "worker  - success: 0.000 - failed to download: 1.000 - failed to resize: 0.000 - images per sec: 7247 - count: 10000\n",
      "total   - success: 0.000 - failed to download: 1.000 - failed to resize: 0.000 - images per sec: 60604 - count: 440000\n",
      "worker  - success: 0.000 - failed to download: 1.000 - failed to resize: 0.000 - images per sec: 7812 - count: 10000\n",
      "total   - success: 0.000 - failed to download: 1.000 - failed to resize: 0.000 - images per sec: 61981 - count: 450000\n",
      "worker  - success: 0.000 - failed to download: 1.000 - failed to resize: 0.000 - images per sec: 6928 - count: 10000\n",
      "total   - success: 0.000 - failed to download: 1.000 - failed to resize: 0.000 - images per sec: 63358 - count: 460000\n",
      "worker  - success: 0.000 - failed to download: 1.000 - failed to resize: 0.000 - images per sec: 7940 - count: 10000\n",
      "total   - success: 0.000 - failed to download: 1.000 - failed to resize: 0.000 - images per sec: 64736 - count: 470000\n",
      "worker  - success: 0.000 - failed to download: 1.000 - failed to resize: 0.000 - images per sec: 7843 - count: 10000\n",
      "total   - success: 0.000 - failed to download: 1.000 - failed to resize: 0.000 - images per sec: 66113 - count: 480000\n",
      "worker  - success: 0.000 - failed to download: 1.000 - failed to resize: 0.000 - images per sec: 7598 - count: 10000\n",
      "total   - success: 0.000 - failed to download: 1.000 - failed to resize: 0.000 - images per sec: 67490 - count: 490000\n",
      "worker  - success: 0.000 - failed to download: 1.000 - failed to resize: 0.000 - images per sec: 7922 - count: 10000\n",
      "total   - success: 0.000 - failed to download: 1.000 - failed to resize: 0.000 - images per sec: 68868 - count: 500000\n"
     ]
    },
    {
     "name": "stderr",
     "output_type": "stream",
     "text": [
      "58it [00:59,  2.19it/s]"
     ]
    },
    {
     "name": "stdout",
     "output_type": "stream",
     "text": [
      "worker  - success: 0.000 - failed to download: 1.000 - failed to resize: 0.000 - images per sec: 7591 - count: 10000\n",
      "total   - success: 0.000 - failed to download: 1.000 - failed to resize: 0.000 - images per sec: 31892 - count: 510000\n",
      "worker  - success: 0.000 - failed to download: 1.000 - failed to resize: 0.000 - images per sec: 7306 - count: 10000\n",
      "total   - success: 0.000 - failed to download: 1.000 - failed to resize: 0.000 - images per sec: 32044 - count: 520000\n",
      "worker  - success: 0.000 - failed to download: 1.000 - failed to resize: 0.000 - images per sec: 7280 - count: 10000\n",
      "total   - success: 0.000 - failed to download: 1.000 - failed to resize: 0.000 - images per sec: 32305 - count: 530000\n",
      "worker  - success: 0.000 - failed to download: 1.000 - failed to resize: 0.000 - images per sec: 7020 - count: 10000\n",
      "total   - success: 0.000 - failed to download: 1.000 - failed to resize: 0.000 - images per sec: 32620 - count: 540000\n",
      "worker  - success: 0.000 - failed to download: 1.000 - failed to resize: 0.000 - images per sec: 7013 - count: 10000\n",
      "total   - success: 0.000 - failed to download: 1.000 - failed to resize: 0.000 - images per sec: 33224 - count: 550000\n",
      "worker  - success: 0.000 - failed to download: 1.000 - failed to resize: 0.000 - images per sec: 7116 - count: 10000\n",
      "total   - success: 0.000 - failed to download: 1.000 - failed to resize: 0.000 - images per sec: 33713 - count: 560000\n",
      "worker  - success: 0.000 - failed to download: 1.000 - failed to resize: 0.000 - images per sec: 7008 - count: 10000\n",
      "total   - success: 0.000 - failed to download: 1.000 - failed to resize: 0.000 - images per sec: 34315 - count: 570000\n",
      "worker  - success: 0.000 - failed to download: 1.000 - failed to resize: 0.000 - images per sec: 7216 - count: 10000\n",
      "total   - success: 0.000 - failed to download: 1.000 - failed to resize: 0.000 - images per sec: 34917 - count: 580000\n",
      "worker  - success: 0.000 - failed to download: 1.000 - failed to resize: 0.000 - images per sec: 7033 - count: 10000\n",
      "total   - success: 0.000 - failed to download: 1.000 - failed to resize: 0.000 - images per sec: 35519 - count: 590000\n",
      "worker  - success: 0.000 - failed to download: 1.000 - failed to resize: 0.000 - images per sec: 7017 - count: 10000\n",
      "total   - success: 0.000 - failed to download: 1.000 - failed to resize: 0.000 - images per sec: 36121 - count: 600000\n"
     ]
    },
    {
     "name": "stderr",
     "output_type": "stream",
     "text": [
      "100it [01:05, 11.33it/s]"
     ]
    },
    {
     "name": "stdout",
     "output_type": "stream",
     "text": [
      "worker  - success: 0.000 - failed to download: 1.000 - failed to resize: 0.000 - images per sec: 7507 - count: 10000\n",
      "total   - success: 0.000 - failed to download: 1.000 - failed to resize: 0.000 - images per sec: 29994 - count: 610000\n",
      "worker  - success: 0.000 - failed to download: 1.000 - failed to resize: 0.000 - images per sec: 7772 - count: 10000\n",
      "total   - success: 0.000 - failed to download: 1.000 - failed to resize: 0.000 - images per sec: 28228 - count: 620000\n",
      "worker  - success: 0.000 - failed to download: 1.000 - failed to resize: 0.000 - images per sec: 7462 - count: 10000\n",
      "total   - success: 0.000 - failed to download: 1.000 - failed to resize: 0.000 - images per sec: 28683 - count: 630000\n",
      "worker  - success: 0.000 - failed to download: 1.000 - failed to resize: 0.000 - images per sec: 7719 - count: 10000\n",
      "total   - success: 0.000 - failed to download: 1.000 - failed to resize: 0.000 - images per sec: 29138 - count: 640000\n",
      "worker  - success: 0.000 - failed to download: 1.000 - failed to resize: 0.000 - images per sec: 7691 - count: 10000\n",
      "total   - success: 0.000 - failed to download: 1.000 - failed to resize: 0.000 - images per sec: 29593 - count: 650000\n",
      "worker  - success: 0.000 - failed to download: 1.000 - failed to resize: 0.000 - images per sec: 7573 - count: 10000\n",
      "total   - success: 0.000 - failed to download: 1.000 - failed to resize: 0.000 - images per sec: 30049 - count: 660000\n",
      "worker  - success: 0.000 - failed to download: 1.000 - failed to resize: 0.000 - images per sec: 7727 - count: 10000\n",
      "total   - success: 0.000 - failed to download: 1.000 - failed to resize: 0.000 - images per sec: 30504 - count: 670000\n",
      "worker  - success: 0.000 - failed to download: 1.000 - failed to resize: 0.000 - images per sec: 7829 - count: 10000\n",
      "total   - success: 0.000 - failed to download: 1.000 - failed to resize: 0.000 - images per sec: 30959 - count: 680000\n",
      "worker  - success: 0.000 - failed to download: 1.000 - failed to resize: 0.000 - images per sec: 7563 - count: 10000\n",
      "total   - success: 0.000 - failed to download: 1.000 - failed to resize: 0.000 - images per sec: 31415 - count: 690000\n",
      "worker  - success: 0.000 - failed to download: 1.000 - failed to resize: 0.000 - images per sec: 7504 - count: 10000\n",
      "total   - success: 0.000 - failed to download: 1.000 - failed to resize: 0.000 - images per sec: 31870 - count: 700000\n",
      "worker  - success: 0.000 - failed to download: 1.000 - failed to resize: 0.000 - images per sec: 7515 - count: 10000\n",
      "total   - success: 0.000 - failed to download: 1.000 - failed to resize: 0.000 - images per sec: 32325 - count: 710000\n",
      "worker  - success: 0.000 - failed to download: 1.000 - failed to resize: 0.000 - images per sec: 7810 - count: 10000\n",
      "total   - success: 0.000 - failed to download: 1.000 - failed to resize: 0.000 - images per sec: 32780 - count: 720000\n",
      "worker  - success: 0.000 - failed to download: 1.000 - failed to resize: 0.000 - images per sec: 7658 - count: 10000\n",
      "total   - success: 0.000 - failed to download: 1.000 - failed to resize: 0.000 - images per sec: 33236 - count: 730000\n",
      "worker  - success: 0.000 - failed to download: 1.000 - failed to resize: 0.000 - images per sec: 7527 - count: 10000\n",
      "total   - success: 0.000 - failed to download: 1.000 - failed to resize: 0.000 - images per sec: 33691 - count: 740000\n",
      "worker  - success: 0.000 - failed to download: 1.000 - failed to resize: 0.000 - images per sec: 7742 - count: 10000\n",
      "total   - success: 0.000 - failed to download: 1.000 - failed to resize: 0.000 - images per sec: 34146 - count: 750000\n",
      "worker  - success: 0.000 - failed to download: 1.000 - failed to resize: 0.000 - images per sec: 7530 - count: 10000\n",
      "total   - success: 0.000 - failed to download: 1.000 - failed to resize: 0.000 - images per sec: 34602 - count: 760000\n",
      "worker  - success: 0.000 - failed to download: 1.000 - failed to resize: 0.000 - images per sec: 7610 - count: 10000\n",
      "total   - success: 0.000 - failed to download: 1.000 - failed to resize: 0.000 - images per sec: 35057 - count: 770000\n",
      "worker  - success: 0.000 - failed to download: 1.000 - failed to resize: 0.000 - images per sec: 7663 - count: 10000\n",
      "total   - success: 0.000 - failed to download: 1.000 - failed to resize: 0.000 - images per sec: 35512 - count: 780000\n",
      "worker  - success: 0.000 - failed to download: 1.000 - failed to resize: 0.000 - images per sec: 7503 - count: 10000\n",
      "total   - success: 0.000 - failed to download: 1.000 - failed to resize: 0.000 - images per sec: 35967 - count: 790000\n",
      "worker  - success: 0.000 - failed to download: 1.000 - failed to resize: 0.000 - images per sec: 7465 - count: 10000\n",
      "total   - success: 0.000 - failed to download: 1.000 - failed to resize: 0.000 - images per sec: 36423 - count: 800000\n",
      "worker  - success: 0.000 - failed to download: 1.000 - failed to resize: 0.000 - images per sec: 7533 - count: 10000\n",
      "total   - success: 0.000 - failed to download: 1.000 - failed to resize: 0.000 - images per sec: 36878 - count: 810000\n",
      "worker  - success: 0.000 - failed to download: 1.000 - failed to resize: 0.000 - images per sec: 7662 - count: 10000\n",
      "total   - success: 0.000 - failed to download: 1.000 - failed to resize: 0.000 - images per sec: 37333 - count: 820000\n",
      "worker  - success: 0.000 - failed to download: 1.000 - failed to resize: 0.000 - images per sec: 7765 - count: 10000\n",
      "total   - success: 0.000 - failed to download: 1.000 - failed to resize: 0.000 - images per sec: 37789 - count: 830000\n",
      "worker  - success: 0.000 - failed to download: 1.000 - failed to resize: 0.000 - images per sec: 7655 - count: 10000\n",
      "total   - success: 0.000 - failed to download: 1.000 - failed to resize: 0.000 - images per sec: 38244 - count: 840000\n",
      "worker  - success: 0.000 - failed to download: 1.000 - failed to resize: 0.000 - images per sec: 7542 - count: 10000\n",
      "total   - success: 0.000 - failed to download: 1.000 - failed to resize: 0.000 - images per sec: 38699 - count: 850000\n",
      "worker  - success: 0.000 - failed to download: 1.000 - failed to resize: 0.000 - images per sec: 7571 - count: 10000\n",
      "total   - success: 0.000 - failed to download: 1.000 - failed to resize: 0.000 - images per sec: 39082 - count: 860000\n",
      "worker  - success: 0.000 - failed to download: 1.000 - failed to resize: 0.000 - images per sec: 7593 - count: 10000\n",
      "total   - success: 0.000 - failed to download: 1.000 - failed to resize: 0.000 - images per sec: 39537 - count: 870000\n",
      "worker  - success: 0.000 - failed to download: 1.000 - failed to resize: 0.000 - images per sec: 7695 - count: 10000\n",
      "total   - success: 0.000 - failed to download: 1.000 - failed to resize: 0.000 - images per sec: 39991 - count: 880000\n",
      "worker  - success: 0.000 - failed to download: 1.000 - failed to resize: 0.000 - images per sec: 7588 - count: 10000\n",
      "total   - success: 0.000 - failed to download: 1.000 - failed to resize: 0.000 - images per sec: 40446 - count: 890000\n",
      "worker  - success: 0.000 - failed to download: 1.000 - failed to resize: 0.000 - images per sec: 7721 - count: 10000\n",
      "total   - success: 0.000 - failed to download: 1.000 - failed to resize: 0.000 - images per sec: 40900 - count: 900000\n",
      "worker  - success: 0.000 - failed to download: 1.000 - failed to resize: 0.000 - images per sec: 7667 - count: 10000\n",
      "total   - success: 0.000 - failed to download: 1.000 - failed to resize: 0.000 - images per sec: 41355 - count: 910000\n",
      "worker  - success: 0.000 - failed to download: 1.000 - failed to resize: 0.000 - images per sec: 7735 - count: 10000\n",
      "total   - success: 0.000 - failed to download: 1.000 - failed to resize: 0.000 - images per sec: 41809 - count: 920000\n",
      "worker  - success: 0.000 - failed to download: 1.000 - failed to resize: 0.000 - images per sec: 7756 - count: 10000\n",
      "total   - success: 0.000 - failed to download: 1.000 - failed to resize: 0.000 - images per sec: 42264 - count: 930000\n",
      "worker  - success: 0.000 - failed to download: 1.000 - failed to resize: 0.000 - images per sec: 7675 - count: 10000\n",
      "total   - success: 0.000 - failed to download: 1.000 - failed to resize: 0.000 - images per sec: 42718 - count: 940000\n",
      "worker  - success: 0.000 - failed to download: 1.000 - failed to resize: 0.000 - images per sec: 7664 - count: 10000\n",
      "total   - success: 0.000 - failed to download: 1.000 - failed to resize: 0.000 - images per sec: 43173 - count: 950000\n",
      "worker  - success: 0.000 - failed to download: 1.000 - failed to resize: 0.000 - images per sec: 7410 - count: 10000\n",
      "total   - success: 0.000 - failed to download: 1.000 - failed to resize: 0.000 - images per sec: 43627 - count: 960000\n",
      "worker  - success: 0.000 - failed to download: 1.000 - failed to resize: 0.000 - images per sec: 7768 - count: 10000\n",
      "total   - success: 0.000 - failed to download: 1.000 - failed to resize: 0.000 - images per sec: 44081 - count: 970000\n",
      "worker  - success: 0.000 - failed to download: 1.000 - failed to resize: 0.000 - images per sec: 7738 - count: 10000\n",
      "total   - success: 0.000 - failed to download: 1.000 - failed to resize: 0.000 - images per sec: 44493 - count: 980000\n",
      "worker  - success: 0.000 - failed to download: 1.000 - failed to resize: 0.000 - images per sec: 7702 - count: 10000\n",
      "total   - success: 0.000 - failed to download: 1.000 - failed to resize: 0.000 - images per sec: 44947 - count: 990000\n",
      "worker  - success: 0.000 - failed to download: 1.000 - failed to resize: 0.000 - images per sec: 7232 - count: 10000\n",
      "total   - success: 0.000 - failed to download: 1.000 - failed to resize: 0.000 - images per sec: 45401 - count: 1000000\n"
     ]
    },
    {
     "name": "stderr",
     "output_type": "stream",
     "text": [
      "117it [01:16,  4.21it/s]"
     ]
    },
    {
     "name": "stdout",
     "output_type": "stream",
     "text": [
      "worker  - success: 0.000 - failed to download: 1.000 - failed to resize: 0.000 - images per sec: 5694 - count: 10000\n",
      "total   - success: 0.000 - failed to download: 1.000 - failed to resize: 0.000 - images per sec: 32267 - count: 1010000\n",
      "worker  - success: 0.000 - failed to download: 1.000 - failed to resize: 0.000 - images per sec: 5638 - count: 10000\n",
      "total   - success: 0.000 - failed to download: 1.000 - failed to resize: 0.000 - images per sec: 32512 - count: 1020000\n",
      "worker  - success: 0.000 - failed to download: 1.000 - failed to resize: 0.000 - images per sec: 7165 - count: 10000\n",
      "total   - success: 0.000 - failed to download: 1.000 - failed to resize: 0.000 - images per sec: 31359 - count: 1030000\n",
      "worker  - success: 0.000 - failed to download: 1.000 - failed to resize: 0.000 - images per sec: 5971 - count: 10000\n",
      "total   - success: 0.000 - failed to download: 1.000 - failed to resize: 0.000 - images per sec: 31664 - count: 1040000\n",
      "worker  - success: 0.000 - failed to download: 1.000 - failed to resize: 0.000 - images per sec: 5610 - count: 10000\n",
      "total   - success: 0.000 - failed to download: 1.000 - failed to resize: 0.000 - images per sec: 31968 - count: 1050000\n",
      "worker  - success: 0.000 - failed to download: 1.000 - failed to resize: 0.000 - images per sec: 7214 - count: 10000\n",
      "total   - success: 0.000 - failed to download: 1.000 - failed to resize: 0.000 - images per sec: 32254 - count: 1060000\n"
     ]
    },
    {
     "name": "stderr",
     "output_type": "stream",
     "text": [
      "123it [01:17,  4.66it/s]"
     ]
    },
    {
     "name": "stdout",
     "output_type": "stream",
     "text": [
      "worker  - success: 0.000 - failed to download: 1.000 - failed to resize: 0.000 - images per sec: 6856 - count: 10000\n",
      "total   - success: 0.000 - failed to download: 1.000 - failed to resize: 0.000 - images per sec: 32559 - count: 1070000\n",
      "worker  - success: 0.000 - failed to download: 1.000 - failed to resize: 0.000 - images per sec: 7120 - count: 10000\n",
      "total   - success: 0.000 - failed to download: 1.000 - failed to resize: 0.000 - images per sec: 32863 - count: 1080000\n",
      "worker  - success: 0.000 - failed to download: 1.000 - failed to resize: 0.000 - images per sec: 6105 - count: 10000\n",
      "total   - success: 0.000 - failed to download: 1.000 - failed to resize: 0.000 - images per sec: 33167 - count: 1090000\n",
      "worker  - success: 0.000 - failed to download: 1.000 - failed to resize: 0.000 - images per sec: 5854 - count: 10000\n",
      "total   - success: 0.000 - failed to download: 1.000 - failed to resize: 0.000 - images per sec: 33472 - count: 1100000\n",
      "worker  - success: 0.000 - failed to download: 1.000 - failed to resize: 0.000 - images per sec: 6678 - count: 10000\n",
      "total   - success: 0.000 - failed to download: 1.000 - failed to resize: 0.000 - images per sec: 33776 - count: 1110000\n",
      "worker  - success: 0.000 - failed to download: 1.000 - failed to resize: 0.000 - images per sec: 6315 - count: 10000\n",
      "total   - success: 0.000 - failed to download: 1.000 - failed to resize: 0.000 - images per sec: 34080 - count: 1120000\n",
      "worker  - success: 0.000 - failed to download: 1.000 - failed to resize: 0.000 - images per sec: 7056 - count: 10000\n",
      "total   - success: 0.000 - failed to download: 1.000 - failed to resize: 0.000 - images per sec: 34384 - count: 1130000\n",
      "worker  - success: 0.000 - failed to download: 1.000 - failed to resize: 0.000 - images per sec: 5928 - count: 10000\n",
      "total   - success: 0.000 - failed to download: 1.000 - failed to resize: 0.000 - images per sec: 34689 - count: 1140000\n",
      "worker  - success: 0.000 - failed to download: 1.000 - failed to resize: 0.000 - images per sec: 6958 - count: 10000\n",
      "total   - success: 0.000 - failed to download: 1.000 - failed to resize: 0.000 - images per sec: 34993 - count: 1150000\n",
      "worker  - success: 0.000 - failed to download: 1.000 - failed to resize: 0.000 - images per sec: 6163 - count: 10000\n",
      "total   - success: 0.000 - failed to download: 1.000 - failed to resize: 0.000 - images per sec: 35297 - count: 1160000\n",
      "worker  - success: 0.000 - failed to download: 1.000 - failed to resize: 0.000 - images per sec: 7079 - count: 10000\n",
      "total   - success: 0.000 - failed to download: 1.000 - failed to resize: 0.000 - images per sec: 35602 - count: 1170000\n",
      "worker  - success: 0.000 - failed to download: 1.000 - failed to resize: 0.000 - images per sec: 6906 - count: 10000\n",
      "total   - success: 0.000 - failed to download: 1.000 - failed to resize: 0.000 - images per sec: 35906 - count: 1180000\n",
      "worker  - success: 0.000 - failed to download: 1.000 - failed to resize: 0.000 - images per sec: 6620 - count: 10000\n",
      "total   - success: 0.000 - failed to download: 1.000 - failed to resize: 0.000 - images per sec: 36210 - count: 1190000\n",
      "worker  - success: 0.000 - failed to download: 1.000 - failed to resize: 0.000 - images per sec: 5623 - count: 10000\n",
      "total   - success: 0.000 - failed to download: 1.000 - failed to resize: 0.000 - images per sec: 36514 - count: 1200000\n"
     ]
    },
    {
     "name": "stderr",
     "output_type": "stream",
     "text": [
      "147it [01:20,  8.83it/s]"
     ]
    },
    {
     "name": "stdout",
     "output_type": "stream",
     "text": [
      "worker  - success: 0.000 - failed to download: 1.000 - failed to resize: 0.000 - images per sec: 7316 - count: 10000\n",
      "total   - success: 0.000 - failed to download: 1.000 - failed to resize: 0.000 - images per sec: 34083 - count: 1210000\n",
      "worker  - success: 0.000 - failed to download: 1.000 - failed to resize: 0.000 - images per sec: 7622 - count: 10000\n",
      "total   - success: 0.000 - failed to download: 1.000 - failed to resize: 0.000 - images per sec: 33094 - count: 1220000\n",
      "worker  - success: 0.000 - failed to download: 1.000 - failed to resize: 0.000 - images per sec: 6978 - count: 10000\n",
      "total   - success: 0.000 - failed to download: 1.000 - failed to resize: 0.000 - images per sec: 33365 - count: 1230000\n",
      "worker  - success: 0.000 - failed to download: 1.000 - failed to resize: 0.000 - images per sec: 7430 - count: 10000\n",
      "total   - success: 0.000 - failed to download: 1.000 - failed to resize: 0.000 - images per sec: 33636 - count: 1240000\n",
      "worker  - success: 0.000 - failed to download: 1.000 - failed to resize: 0.000 - images per sec: 7279 - count: 10000\n",
      "total   - success: 0.000 - failed to download: 1.000 - failed to resize: 0.000 - images per sec: 33908 - count: 1250000\n",
      "worker  - success: 0.000 - failed to download: 1.000 - failed to resize: 0.000 - images per sec: 7469 - count: 10000\n",
      "total   - success: 0.000 - failed to download: 1.000 - failed to resize: 0.000 - images per sec: 34179 - count: 1260000\n",
      "worker  - success: 0.000 - failed to download: 1.000 - failed to resize: 0.000 - images per sec: 7316 - count: 10000\n",
      "total   - success: 0.000 - failed to download: 1.000 - failed to resize: 0.000 - images per sec: 34450 - count: 1270000\n",
      "worker  - success: 0.000 - failed to download: 1.000 - failed to resize: 0.000 - images per sec: 7364 - count: 10000\n",
      "total   - success: 0.000 - failed to download: 1.000 - failed to resize: 0.000 - images per sec: 34721 - count: 1280000\n",
      "worker  - success: 0.000 - failed to download: 1.000 - failed to resize: 0.000 - images per sec: 7085 - count: 10000\n",
      "total   - success: 0.000 - failed to download: 1.000 - failed to resize: 0.000 - images per sec: 34993 - count: 1290000\n",
      "worker  - success: 0.000 - failed to download: 1.000 - failed to resize: 0.000 - images per sec: 7521 - count: 10000\n",
      "total   - success: 0.000 - failed to download: 1.000 - failed to resize: 0.000 - images per sec: 35262 - count: 1300000\n",
      "worker  - success: 0.000 - failed to download: 1.000 - failed to resize: 0.000 - images per sec: 7136 - count: 10000\n",
      "total   - success: 0.000 - failed to download: 1.000 - failed to resize: 0.000 - images per sec: 35533 - count: 1310000\n",
      "worker  - success: 0.000 - failed to download: 1.000 - failed to resize: 0.000 - images per sec: 7588 - count: 10000\n",
      "total   - success: 0.000 - failed to download: 1.000 - failed to resize: 0.000 - images per sec: 35805 - count: 1320000\n",
      "worker  - success: 0.000 - failed to download: 1.000 - failed to resize: 0.000 - images per sec: 7199 - count: 10000\n",
      "total   - success: 0.000 - failed to download: 1.000 - failed to resize: 0.000 - images per sec: 36076 - count: 1330000\n",
      "worker  - success: 0.000 - failed to download: 1.000 - failed to resize: 0.000 - images per sec: 7201 - count: 10000\n",
      "total   - success: 0.000 - failed to download: 1.000 - failed to resize: 0.000 - images per sec: 36347 - count: 1340000\n",
      "worker  - success: 0.000 - failed to download: 1.000 - failed to resize: 0.000 - images per sec: 7305 - count: 10000\n",
      "total   - success: 0.000 - failed to download: 1.000 - failed to resize: 0.000 - images per sec: 36618 - count: 1350000\n",
      "worker  - success: 0.000 - failed to download: 1.000 - failed to resize: 0.000 - images per sec: 7806 - count: 10000\n",
      "total   - success: 0.000 - failed to download: 1.000 - failed to resize: 0.000 - images per sec: 36677 - count: 1360000\n",
      "worker  - success: 0.000 - failed to download: 1.000 - failed to resize: 0.000 - images per sec: 7600 - count: 10000\n",
      "total   - success: 0.000 - failed to download: 1.000 - failed to resize: 0.000 - images per sec: 36946 - count: 1370000\n",
      "worker  - success: 0.000 - failed to download: 1.000 - failed to resize: 0.000 - images per sec: 7810 - count: 10000\n",
      "total   - success: 0.000 - failed to download: 1.000 - failed to resize: 0.000 - images per sec: 37216 - count: 1380000\n",
      "worker  - success: 0.000 - failed to download: 1.000 - failed to resize: 0.000 - images per sec: 7541 - count: 10000\n",
      "total   - success: 0.000 - failed to download: 1.000 - failed to resize: 0.000 - images per sec: 37486 - count: 1390000\n",
      "worker  - success: 0.000 - failed to download: 1.000 - failed to resize: 0.000 - images per sec: 7097 - count: 10000\n",
      "total   - success: 0.000 - failed to download: 1.000 - failed to resize: 0.000 - images per sec: 37756 - count: 1400000\n",
      "worker  - success: 0.000 - failed to download: 1.000 - failed to resize: 0.000 - images per sec: 7138 - count: 10000\n",
      "total   - success: 0.000 - failed to download: 1.000 - failed to resize: 0.000 - images per sec: 38025 - count: 1410000\n",
      "worker  - success: 0.000 - failed to download: 1.000 - failed to resize: 0.000 - images per sec: 7894 - count: 10000\n",
      "total   - success: 0.000 - failed to download: 1.000 - failed to resize: 0.000 - images per sec: 38295 - count: 1420000\n",
      "worker  - success: 0.000 - failed to download: 1.000 - failed to resize: 0.000 - images per sec: 7462 - count: 10000\n",
      "total   - success: 0.000 - failed to download: 1.000 - failed to resize: 0.000 - images per sec: 38565 - count: 1430000\n",
      "worker  - success: 0.000 - failed to download: 1.000 - failed to resize: 0.000 - images per sec: 6924 - count: 10000\n",
      "total   - success: 0.000 - failed to download: 1.000 - failed to resize: 0.000 - images per sec: 38834 - count: 1440000\n",
      "worker  - success: 0.000 - failed to download: 1.000 - failed to resize: 0.000 - images per sec: 7282 - count: 10000\n",
      "total   - success: 0.000 - failed to download: 1.000 - failed to resize: 0.000 - images per sec: 39104 - count: 1450000\n",
      "worker  - success: 0.000 - failed to download: 1.000 - failed to resize: 0.000 - images per sec: 7157 - count: 10000\n",
      "total   - success: 0.000 - failed to download: 1.000 - failed to resize: 0.000 - images per sec: 39374 - count: 1460000\n",
      "worker  - success: 0.000 - failed to download: 1.000 - failed to resize: 0.000 - images per sec: 6867 - count: 10000\n",
      "total   - success: 0.000 - failed to download: 1.000 - failed to resize: 0.000 - images per sec: 39643 - count: 1470000\n",
      "worker  - success: 0.000 - failed to download: 1.000 - failed to resize: 0.000 - images per sec: 6929 - count: 10000\n",
      "total   - success: 0.000 - failed to download: 1.000 - failed to resize: 0.000 - images per sec: 39913 - count: 1480000\n",
      "worker  - success: 0.000 - failed to download: 1.000 - failed to resize: 0.000 - images per sec: 7828 - count: 10000\n",
      "total   - success: 0.000 - failed to download: 1.000 - failed to resize: 0.000 - images per sec: 40183 - count: 1490000\n",
      "worker  - success: 0.000 - failed to download: 1.000 - failed to resize: 0.000 - images per sec: 7734 - count: 10000\n",
      "total   - success: 0.000 - failed to download: 1.000 - failed to resize: 0.000 - images per sec: 40452 - count: 1500000\n",
      "failed to parse stats file /home/willsa/git/bedmap-dev/nbs/daft-try/tmp-test-images/00150_stats.json Expecting ':' delimiter: line 1504 column 73 (char 115342)\n"
     ]
    },
    {
     "name": "stderr",
     "output_type": "stream",
     "text": [
      "175it [01:31,  1.91it/s]\n"
     ]
    },
    {
     "name": "stdout",
     "output_type": "stream",
     "text": [
      "worker  - success: 0.000 - failed to download: 1.000 - failed to resize: 0.000 - images per sec: 9452 - count: 10000\n",
      "total   - success: 0.000 - failed to download: 1.000 - failed to resize: 0.000 - images per sec: 31376 - count: 1510000\n",
      "worker  - success: 0.000 - failed to download: 1.000 - failed to resize: 0.000 - images per sec: 8256 - count: 3043\n",
      "total   - success: 0.000 - failed to download: 1.000 - failed to resize: 0.000 - images per sec: 31439 - count: 1513043\n",
      "worker  - success: 0.000 - failed to download: 1.000 - failed to resize: 0.000 - images per sec: 9768 - count: 10000\n",
      "total   - success: 0.000 - failed to download: 1.000 - failed to resize: 0.000 - images per sec: 31584 - count: 1523043\n",
      "worker  - success: 0.000 - failed to download: 1.000 - failed to resize: 0.000 - images per sec: 6890 - count: 10000\n",
      "total   - success: 0.000 - failed to download: 1.000 - failed to resize: 0.000 - images per sec: 31792 - count: 1533043\n",
      "worker  - success: 0.000 - failed to download: 1.000 - failed to resize: 0.000 - images per sec: 7260 - count: 10000\n",
      "total   - success: 0.000 - failed to download: 1.000 - failed to resize: 0.000 - images per sec: 31999 - count: 1543043\n",
      "worker  - success: 0.000 - failed to download: 1.000 - failed to resize: 0.000 - images per sec: 7179 - count: 10000\n",
      "total   - success: 0.000 - failed to download: 1.000 - failed to resize: 0.000 - images per sec: 32207 - count: 1553043\n",
      "worker  - success: 0.000 - failed to download: 1.000 - failed to resize: 0.000 - images per sec: 6975 - count: 10000\n",
      "total   - success: 0.000 - failed to download: 1.000 - failed to resize: 0.000 - images per sec: 32414 - count: 1563043\n",
      "worker  - success: 0.000 - failed to download: 1.000 - failed to resize: 0.000 - images per sec: 7117 - count: 10000\n",
      "total   - success: 0.000 - failed to download: 1.000 - failed to resize: 0.000 - images per sec: 32621 - count: 1573043\n",
      "worker  - success: 0.000 - failed to download: 1.000 - failed to resize: 0.000 - images per sec: 7068 - count: 10000\n",
      "total   - success: 0.000 - failed to download: 1.000 - failed to resize: 0.000 - images per sec: 32829 - count: 1583043\n",
      "worker  - success: 0.000 - failed to download: 1.000 - failed to resize: 0.000 - images per sec: 6586 - count: 10000\n",
      "total   - success: 0.000 - failed to download: 1.000 - failed to resize: 0.000 - images per sec: 33036 - count: 1593043\n",
      "worker  - success: 0.000 - failed to download: 1.000 - failed to resize: 0.000 - images per sec: 7147 - count: 10000\n",
      "total   - success: 0.000 - failed to download: 1.000 - failed to resize: 0.000 - images per sec: 33243 - count: 1603043\n",
      "worker  - success: 0.000 - failed to download: 1.000 - failed to resize: 0.000 - images per sec: 7684 - count: 10000\n",
      "total   - success: 0.000 - failed to download: 1.000 - failed to resize: 0.000 - images per sec: 33451 - count: 1613043\n",
      "worker  - success: 0.000 - failed to download: 1.000 - failed to resize: 0.000 - images per sec: 7173 - count: 10000\n",
      "total   - success: 0.000 - failed to download: 1.000 - failed to resize: 0.000 - images per sec: 33658 - count: 1623043\n",
      "worker  - success: 0.000 - failed to download: 1.000 - failed to resize: 0.000 - images per sec: 7076 - count: 10000\n",
      "total   - success: 0.000 - failed to download: 1.000 - failed to resize: 0.000 - images per sec: 33866 - count: 1633043\n",
      "worker  - success: 0.000 - failed to download: 1.000 - failed to resize: 0.000 - images per sec: 6996 - count: 10000\n",
      "total   - success: 0.000 - failed to download: 1.000 - failed to resize: 0.000 - images per sec: 34073 - count: 1643043\n",
      "worker  - success: 0.000 - failed to download: 1.000 - failed to resize: 0.000 - images per sec: 6971 - count: 10000\n",
      "total   - success: 0.000 - failed to download: 1.000 - failed to resize: 0.000 - images per sec: 34280 - count: 1653043\n",
      "worker  - success: 0.000 - failed to download: 1.000 - failed to resize: 0.000 - images per sec: 7316 - count: 10000\n",
      "total   - success: 0.000 - failed to download: 1.000 - failed to resize: 0.000 - images per sec: 34488 - count: 1663043\n",
      "worker  - success: 0.000 - failed to download: 1.000 - failed to resize: 0.000 - images per sec: 7310 - count: 10000\n",
      "total   - success: 0.000 - failed to download: 1.000 - failed to resize: 0.000 - images per sec: 34695 - count: 1673043\n",
      "worker  - success: 0.000 - failed to download: 1.000 - failed to resize: 0.000 - images per sec: 6592 - count: 10000\n",
      "total   - success: 0.000 - failed to download: 1.000 - failed to resize: 0.000 - images per sec: 34902 - count: 1683043\n",
      "worker  - success: 0.000 - failed to download: 1.000 - failed to resize: 0.000 - images per sec: 9935 - count: 10000\n",
      "total   - success: 0.000 - failed to download: 1.000 - failed to resize: 0.000 - images per sec: 35072 - count: 1693043\n",
      "worker  - success: 0.000 - failed to download: 1.000 - failed to resize: 0.000 - images per sec: 7096 - count: 10000\n",
      "total   - success: 0.000 - failed to download: 1.000 - failed to resize: 0.000 - images per sec: 35279 - count: 1703043\n",
      "worker  - success: 0.000 - failed to download: 1.000 - failed to resize: 0.000 - images per sec: 9796 - count: 10000\n",
      "total   - success: 0.000 - failed to download: 1.000 - failed to resize: 0.000 - images per sec: 35486 - count: 1713043\n",
      "worker  - success: 0.000 - failed to download: 1.000 - failed to resize: 0.000 - images per sec: 7155 - count: 10000\n",
      "total   - success: 0.000 - failed to download: 1.000 - failed to resize: 0.000 - images per sec: 35693 - count: 1723043\n",
      "worker  - success: 0.000 - failed to download: 1.000 - failed to resize: 0.000 - images per sec: 7164 - count: 10000\n",
      "total   - success: 0.000 - failed to download: 1.000 - failed to resize: 0.000 - images per sec: 35900 - count: 1733043\n"
     ]
    },
    {
     "name": "stderr",
     "output_type": "stream",
     "text": [
      "\u001b[1m\u001b[31mERROR: \u001b[0mCould not consume arg: --number_sample\n",
      "Usage: img2dataset --url_list https://storage.googleapis.com/openimages/2018_04/train/train-images-boxable.csv --output_folder tmp-test-images --processes_count 10 --thread_count 5 -\n",
      "\n",
      "For detailed information on this command, run:\n",
      "  img2dataset --url_list https://storage.googleapis.com/openimages/2018_04/train/train-images-boxable.csv --output_folder tmp-test-images --processes_count 10 --thread_count 5 - --help\n"
     ]
    },
    {
     "data": {
      "text/plain": [
       "CompletedProcess(args=['img2dataset', '--url_list', 'https://storage.googleapis.com/openimages/2018_04/train/train-images-boxable.csv', '--output_folder', 'tmp-test-images', '--processes_count', '10', '--thread_count', '5', '--number_sample', '2000'], returncode=2)"
      ]
     },
     "execution_count": 4,
     "metadata": {},
     "output_type": "execute_result"
    }
   ],
   "source": [
    "#| hide\n",
    "\n",
    "tmp_path = Path(\"./tmp-test-images\")\n",
    "\n",
    "# img2dataset --url_list https://storage.googleapis.com/openimages/2018_04/train/train-images-boxable.csv --output_folder ./images --processes_count 10 --thread_count 5 --number_sample 2000\n",
    "\n",
    "from subprocess import run\n",
    "\n",
    "cmd = [\"img2dataset\",\"--url_list\",\n",
    "       \"https://storage.googleapis.com/openimages/2018_04/train/train-images-boxable.csv\",\n",
    "       \"--output_folder\", tmp_path.as_posix(),\\\n",
    "       \"--processes_count\", \"10\",\n",
    "        \"--thread_count\", \"5\",\n",
    "        \"--number_sample\", \"2000\"]\n",
    "\n",
    "run(cmd)"
   ]
  },
  {
   "cell_type": "code",
   "execution_count": null,
   "metadata": {},
   "outputs": [],
   "source": [
    "#| export\n",
    "\n",
    "@dataclass\n",
    "class TimmEmbedder:\n",
    "    \"\"\"\n",
    "    embed an image with any timm model that supports this\n",
    "\n",
    "    Reference: https://huggingface.co/docs/timm/main/en/feature_extraction#pooled\n",
    "    \"\"\"\n",
    "    model_name: str\n",
    "    device: torch.device = field(init=False)\n",
    "    dtype: torch.dtype = field(init=False)\n",
    "    _model: Callable = field(init=False)\n",
    "    _transforms: Callable = field(init=False)\n",
    "\n",
    "\n",
    "    def __post_init__(self):\n",
    "        # initialize model and transforms\n",
    "        self._model = timm.create_model(self.model_name, pretrained=True, num_classes=0)\n",
    "        cfg = self._model.pretrained_cfg\n",
    "        self._transform = timm.data.create_transform(**timm.data.resolve_data_config(cfg))\n",
    "\n",
    "        # set device and dtype\n",
    "        self.device = torch.device(\"cuda\" if torch.cuda.is_available() else \"cpu\")\n",
    "        self.dtype = torch.bfloat16 if self.device.type == \"cuda\" and torch.cuda.is_bf16_supported() else (\n",
    "            torch.float16 if self.device.type == \"cuda\" else torch.float32\n",
    "        )\n",
    "        print(f\"Inference device: {self.device} with dtype: {self.dtype}\")\n",
    "\n",
    "        # optimize model for inference\n",
    "        self._model = self._model.eval().to(device=self.device, dtype=self.dtype)\n",
    "        self._model = torch.jit.optimize_for_inference(torch.jit.script(self._model))\n",
    "\n",
    "\n",
    "    def __call__(self, image: torch.Tensor | Image.Image) -> np.array:\n",
    "            \"\"\"transform image, run inference, extract embedding as 1D array\"\"\"\n",
    "            image = self._transform(image).to(self.device, self.dtype).unsqueeze(0)\n",
    "            emb = self._model(image)\n",
    "            return emb.detach().cpu().float().numpy().squeeze()\n"
   ]
  },
  {
   "cell_type": "code",
   "execution_count": 6,
   "metadata": {},
   "outputs": [],
   "source": [
    "#| hide\n",
    "\n",
    "# it's a one-stop shop\n",
    "# e = TimmEmbedder(\"mobilenetv3_large_100\")\n",
    "# e(torch.rand((3,256,256)))"
   ]
  },
  {
   "cell_type": "markdown",
   "metadata": {},
   "source": []
  },
  {
   "cell_type": "code",
   "execution_count": 7,
   "metadata": {},
   "outputs": [],
   "source": [
    "#| export\n",
    "\n",
    "@daft.udf(return_dtype=daft.DataType.list(daft.DataType.float32()))\n",
    "class EmbedImages:\n",
    "    \"\"\"run timm embedder on an image column\"\"\"\n",
    "    def __init__(self, model_name: str):\n",
    "        self.model_name = model_name\n",
    "        self.embedder = TimmEmbedder(self.model_name)\n",
    "\n",
    "    def __call__(self, images_col):\n",
    "        images = [rearrange(im, \"h w c -> c h w\") for im in images_col.to_pylist()]\n",
    "        ## Note: expect images are different sizes\n",
    "        ## could maybe speed up by doing the resize transform separately,\n",
    "        ## then doing batch inference\n",
    "        ## Example: https://colab.research.google.com/github/Eventual-Inc/Daft/blob/main/tutorials/mnist.ipynb\n",
    "        return [self.embedder(\n",
    "            torch.tensor(im, dtype=self.embedder.dtype)) for im in images]"
   ]
  },
  {
   "cell_type": "markdown",
   "metadata": {},
   "source": [
    "## Test it out"
   ]
  },
  {
   "cell_type": "code",
   "execution_count": null,
   "metadata": {},
   "outputs": [
    {
     "name": "stderr",
     "output_type": "stream",
     "text": [
      "/home/willsa/git/bedmap-dev/.venv/lib/python3.12/site-packages/daft/context.py:168: UserWarning: Daft is configured to use the new NativeRunner by default as of v0.4.0. If you are encountering any regressions, please switch back to the legacy PyRunner via `daft.context.set_runner_py()` or by setting the env variable `DAFT_RUNNER=py`. We appreciate you filing issues and helping make the NativeRunner better: https://github.com/Eventual-Inc/Daft/issues\n",
      "  warnings.warn(\n"
     ]
    }
   ],
   "source": [
    "#| hide\n",
    "\n",
    "glob = tmp_path.as_posix() +\"/*.jpg\"\n",
    "images_df = daft.from_glob_path(glob).with_column_renamed(\"path\", \"path_full_img\")\n",
    "\n",
    "images_df = images_df.with_column(\"image\", daft.col(\"path_full_img\"\n",
    "                                 ).url.download().image.decode(\n",
    "                                     mode=\"RGB\", on_error=\"null\"))"
   ]
  },
  {
   "cell_type": "markdown",
   "metadata": {},
   "source": [
    "## time some embedding models on CPU on my laptop\n",
    "\n",
    "- \"mobilenetv3_large_100\" : 3m0s\n",
    "- \"vit_large_patch14_reg4_dinov2.lvd142m\" : OOM\n",
    "- \"vit_base_patch14_reg4_dinov2.lvd142m\" :"
   ]
  },
  {
   "cell_type": "code",
   "execution_count": null,
   "metadata": {},
   "outputs": [
    {
     "ename": "",
     "evalue": "",
     "output_type": "error",
     "traceback": [
      "\u001b[1;31mThe Kernel crashed while executing code in the current cell or a previous cell. \n",
      "\u001b[1;31mPlease review the code in the cell(s) to identify a possible cause of the failure. \n",
      "\u001b[1;31mClick <a href='https://aka.ms/vscodeJupyterKernelCrash'>here</a> for more info. \n",
      "\u001b[1;31mView Jupyter <a href='command:jupyter.viewOutput'>log</a> for further details."
     ]
    }
   ],
   "source": [
    "#| hide\n",
    "\n",
    "MODEL_NAME = \"vit_base_patch14_reg4_dinov2.lvd142m\"\n",
    "EmbedImagesWithModel = EmbedImages.with_init_args(MODEL_NAME)\n",
    "\n",
    "images_df = images_df.with_column(\"embed\", EmbedImagesWithModel(daft.col(\"image\")))"
   ]
  },
  {
   "cell_type": "code",
   "execution_count": null,
   "metadata": {},
   "outputs": [
    {
     "name": "stdout",
     "output_type": "stream",
     "text": [
      "🗡️ 🐟 Project: 00:00 1,650 rows received, 0 rows emittedInference device: cpu with dtype: torch.float32Inference device: cpu with dtype: torch.float32\n",
      "Inference device: cpu with dtype: torch.float32\n",
      "Inference device: cpu with dtype: torch.float32\n",
      "\n",
      "Inference device: cpu with dtype: torch.float32\n",
      "Inference device: cpu with dtype: torch.float32\n",
      "Inference device: cpu with dtype: torch.float32\n",
      "Inference device: cpu with dtype: torch.float32\n",
      "Inference device: cpu with dtype: torch.float32\n",
      "Inference device: cpu with dtype: torch.float32\n",
      "Inference device: cpu with dtype: torch.float32\n",
      "Inference device: cpu with dtype: torch.float32\n",
      "Inference device: cpu with dtype: torch.float32\n",
      "Inference device: cpu with dtype: torch.float32\n",
      "Inference device: cpu with dtype: torch.float32\n",
      "Inference device: cpu with dtype: torch.float32\n"
     ]
    }
   ],
   "source": [
    "#| hide\n",
    "\n",
    "images_df = images_df.collect()"
   ]
  },
  {
   "cell_type": "code",
   "execution_count": null,
   "metadata": {},
   "outputs": [],
   "source": [
    "#| hide\n",
    "\n",
    "tmp_path.unlink()"
   ]
  }
 ],
 "metadata": {
  "kernelspec": {
   "display_name": ".venv",
   "language": "python",
   "name": "python3"
  },
  "language_info": {
   "codemirror_mode": {
    "name": "ipython",
    "version": 3
   },
   "file_extension": ".py",
   "mimetype": "text/x-python",
   "name": "python",
   "nbconvert_exporter": "python",
   "pygments_lexer": "ipython3",
   "version": "3.12.7"
  }
 },
 "nbformat": 4,
 "nbformat_minor": 2
}
