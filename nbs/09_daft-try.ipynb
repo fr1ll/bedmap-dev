{
 "cells": [
  {
   "cell_type": "code",
   "execution_count": 25,
   "metadata": {},
   "outputs": [],
   "source": [
    "#| hide\n",
    "\n",
    "import daft"
   ]
  },
  {
   "cell_type": "code",
   "execution_count": 26,
   "metadata": {},
   "outputs": [],
   "source": [
    "GLOB_PATH = \"../tests/test-data/butterflies_baseline/data/originals/*.jpg\"\n",
    "MIN_BYTES = 100\n",
    "MIN_ASPECT = 4.0"
   ]
  },
  {
   "cell_type": "code",
   "execution_count": 54,
   "metadata": {},
   "outputs": [
    {
     "ename": "AssertionError",
     "evalue": "",
     "output_type": "error",
     "traceback": [
      "\u001b[0;31m---------------------------------------------------------------------------\u001b[0m",
      "\u001b[0;31mAssertionError\u001b[0m                            Traceback (most recent call last)",
      "Cell \u001b[0;32mIn[54], line 12\u001b[0m\n\u001b[1;32m      7\u001b[0m df_img \u001b[38;5;241m=\u001b[39m df_img\u001b[38;5;241m.\u001b[39mwith_column(\u001b[38;5;124m\"\u001b[39m\u001b[38;5;124mimage_name\u001b[39m\u001b[38;5;124m\"\u001b[39m,\n\u001b[1;32m      8\u001b[0m                    df_img[\u001b[38;5;124m\"\u001b[39m\u001b[38;5;124mpath\u001b[39m\u001b[38;5;124m\"\u001b[39m]\u001b[38;5;241m.\u001b[39mstr\u001b[38;5;241m.\u001b[39msplit(\u001b[38;5;124m\"\u001b[39m\u001b[38;5;124m/\u001b[39m\u001b[38;5;124m\"\u001b[39m)\u001b[38;5;241m.\u001b[39mlist\u001b[38;5;241m.\u001b[39mget(\n\u001b[1;32m      9\u001b[0m                        \u001b[38;5;241m-\u001b[39m\u001b[38;5;241m1\u001b[39m)\u001b[38;5;241m.\u001b[39mcast(\u001b[38;5;28mstr\u001b[39m))\n\u001b[1;32m     11\u001b[0m \u001b[38;5;66;03m# filter to distinct names\u001b[39;00m\n\u001b[0;32m---> 12\u001b[0m df_img \u001b[38;5;241m=\u001b[39m \u001b[43mdf_img\u001b[49m\u001b[38;5;241;43m.\u001b[39;49m\u001b[43mgroupby\u001b[49m\u001b[43m(\u001b[49m\u001b[38;5;124;43m\"\u001b[39;49m\u001b[38;5;124;43mimage_name\u001b[39;49m\u001b[38;5;124;43m\"\u001b[39;49m\u001b[43m)\u001b[49m\u001b[38;5;241;43m.\u001b[39;49m\u001b[43magg\u001b[49m\u001b[43m(\u001b[49m\u001b[43mc\u001b[49m\u001b[38;5;241;43m.\u001b[39;49m\u001b[43many_value\u001b[49m\u001b[43m(\u001b[49m\u001b[43m)\u001b[49m\u001b[38;5;241;43m.\u001b[39;49m\u001b[43malias\u001b[49m\u001b[43m(\u001b[49m\u001b[43mc\u001b[49m\u001b[38;5;241;43m.\u001b[39;49m\u001b[43mname\u001b[49m\u001b[43m)\u001b[49m\u001b[43m \u001b[49m\u001b[38;5;28;43;01mfor\u001b[39;49;00m\u001b[43m \u001b[49m\u001b[43mc\u001b[49m\u001b[43m \u001b[49m\u001b[38;5;129;43;01min\u001b[39;49;00m\u001b[43m \u001b[49m\u001b[43mdf_img\u001b[49m\u001b[38;5;241;43m.\u001b[39;49m\u001b[43mcolumns\u001b[49m\u001b[43m)\u001b[49m\n",
      "File \u001b[0;32m~/git/bedmap-dev/.venv/lib/python3.12/site-packages/daft/dataframe/dataframe.py:3389\u001b[0m, in \u001b[0;36mGroupedDataFrame.agg\u001b[0;34m(self, *to_agg)\u001b[0m\n\u001b[1;32m   3352\u001b[0m \u001b[38;5;28;01mdef\u001b[39;00m \u001b[38;5;21magg\u001b[39m(\u001b[38;5;28mself\u001b[39m, \u001b[38;5;241m*\u001b[39mto_agg: Union[Expression, Iterable[Expression]]) \u001b[38;5;241m-\u001b[39m\u001b[38;5;241m>\u001b[39m \u001b[38;5;124m\"\u001b[39m\u001b[38;5;124mDataFrame\u001b[39m\u001b[38;5;124m\"\u001b[39m:\n\u001b[1;32m   3353\u001b[0m \u001b[38;5;250m    \u001b[39m\u001b[38;5;124;03m\"\"\"Perform aggregations on this GroupedDataFrame. Allows for mixed aggregations.\u001b[39;00m\n\u001b[1;32m   3354\u001b[0m \n\u001b[1;32m   3355\u001b[0m \u001b[38;5;124;03m    For a full list of aggregation expressions, see :ref:`Aggregation Expressions <api=aggregation-expression>`\u001b[39;00m\n\u001b[0;32m   (...)\u001b[0m\n\u001b[1;32m   3386\u001b[0m \u001b[38;5;124;03m        DataFrame: DataFrame with grouped aggregations\u001b[39;00m\n\u001b[1;32m   3387\u001b[0m \u001b[38;5;124;03m    \"\"\"\u001b[39;00m\n\u001b[1;32m   3388\u001b[0m     to_agg_list \u001b[38;5;241m=\u001b[39m (\n\u001b[0;32m-> 3389\u001b[0m         \u001b[38;5;28;43mlist\u001b[39;49m\u001b[43m(\u001b[49m\u001b[43mto_agg\u001b[49m\u001b[43m[\u001b[49m\u001b[38;5;241;43m0\u001b[39;49m\u001b[43m]\u001b[49m\u001b[43m)\u001b[49m\n\u001b[1;32m   3390\u001b[0m         \u001b[38;5;28;01mif\u001b[39;00m (\u001b[38;5;28mlen\u001b[39m(to_agg) \u001b[38;5;241m==\u001b[39m \u001b[38;5;241m1\u001b[39m \u001b[38;5;129;01mand\u001b[39;00m \u001b[38;5;129;01mnot\u001b[39;00m \u001b[38;5;28misinstance\u001b[39m(to_agg[\u001b[38;5;241m0\u001b[39m], Expression))\n\u001b[1;32m   3391\u001b[0m         \u001b[38;5;28;01melse\u001b[39;00m \u001b[38;5;28mlist\u001b[39m(typing\u001b[38;5;241m.\u001b[39mcast(\u001b[38;5;124m\"\u001b[39m\u001b[38;5;124mTuple[Expression]\u001b[39m\u001b[38;5;124m\"\u001b[39m, to_agg))\n\u001b[1;32m   3392\u001b[0m     )\n\u001b[1;32m   3394\u001b[0m     \u001b[38;5;28;01mfor\u001b[39;00m expr \u001b[38;5;129;01min\u001b[39;00m to_agg_list:\n\u001b[1;32m   3395\u001b[0m         \u001b[38;5;28;01mif\u001b[39;00m \u001b[38;5;129;01mnot\u001b[39;00m \u001b[38;5;28misinstance\u001b[39m(expr, Expression):\n",
      "Cell \u001b[0;32mIn[54], line 12\u001b[0m, in \u001b[0;36m<genexpr>\u001b[0;34m(.0)\u001b[0m\n\u001b[1;32m      7\u001b[0m df_img \u001b[38;5;241m=\u001b[39m df_img\u001b[38;5;241m.\u001b[39mwith_column(\u001b[38;5;124m\"\u001b[39m\u001b[38;5;124mimage_name\u001b[39m\u001b[38;5;124m\"\u001b[39m,\n\u001b[1;32m      8\u001b[0m                    df_img[\u001b[38;5;124m\"\u001b[39m\u001b[38;5;124mpath\u001b[39m\u001b[38;5;124m\"\u001b[39m]\u001b[38;5;241m.\u001b[39mstr\u001b[38;5;241m.\u001b[39msplit(\u001b[38;5;124m\"\u001b[39m\u001b[38;5;124m/\u001b[39m\u001b[38;5;124m\"\u001b[39m)\u001b[38;5;241m.\u001b[39mlist\u001b[38;5;241m.\u001b[39mget(\n\u001b[1;32m      9\u001b[0m                        \u001b[38;5;241m-\u001b[39m\u001b[38;5;241m1\u001b[39m)\u001b[38;5;241m.\u001b[39mcast(\u001b[38;5;28mstr\u001b[39m))\n\u001b[1;32m     11\u001b[0m \u001b[38;5;66;03m# filter to distinct names\u001b[39;00m\n\u001b[0;32m---> 12\u001b[0m df_img \u001b[38;5;241m=\u001b[39m df_img\u001b[38;5;241m.\u001b[39mgroupby(\u001b[38;5;124m\"\u001b[39m\u001b[38;5;124mimage_name\u001b[39m\u001b[38;5;124m\"\u001b[39m)\u001b[38;5;241m.\u001b[39magg(\u001b[43mc\u001b[49m\u001b[38;5;241;43m.\u001b[39;49m\u001b[43many_value\u001b[49m\u001b[43m(\u001b[49m\u001b[43m)\u001b[49m\u001b[38;5;241;43m.\u001b[39;49m\u001b[43malias\u001b[49m\u001b[43m(\u001b[49m\u001b[43mc\u001b[49m\u001b[38;5;241;43m.\u001b[39;49m\u001b[43mname\u001b[49m\u001b[43m)\u001b[49m \u001b[38;5;28;01mfor\u001b[39;00m c \u001b[38;5;129;01min\u001b[39;00m df_img\u001b[38;5;241m.\u001b[39mcolumns)\n",
      "File \u001b[0;32m~/git/bedmap-dev/.venv/lib/python3.12/site-packages/daft/expressions/expressions.py:567\u001b[0m, in \u001b[0;36mExpression.alias\u001b[0;34m(self, name)\u001b[0m\n\u001b[1;32m    539\u001b[0m \u001b[38;5;28;01mdef\u001b[39;00m \u001b[38;5;21malias\u001b[39m(\u001b[38;5;28mself\u001b[39m, name: builtins\u001b[38;5;241m.\u001b[39mstr) \u001b[38;5;241m-\u001b[39m\u001b[38;5;241m>\u001b[39m Expression:\n\u001b[1;32m    540\u001b[0m \u001b[38;5;250m    \u001b[39m\u001b[38;5;124;03m\"\"\"Gives the expression a new name.\u001b[39;00m\n\u001b[1;32m    541\u001b[0m \n\u001b[1;32m    542\u001b[0m \u001b[38;5;124;03m    Example:\u001b[39;00m\n\u001b[0;32m   (...)\u001b[0m\n\u001b[1;32m    565\u001b[0m \u001b[38;5;124;03m        Expression: Renamed expression\u001b[39;00m\n\u001b[1;32m    566\u001b[0m \u001b[38;5;124;03m    \"\"\"\u001b[39;00m\n\u001b[0;32m--> 567\u001b[0m     \u001b[38;5;28;01massert\u001b[39;00m \u001b[38;5;28misinstance\u001b[39m(name, \u001b[38;5;28mstr\u001b[39m)\n\u001b[1;32m    568\u001b[0m     expr \u001b[38;5;241m=\u001b[39m \u001b[38;5;28mself\u001b[39m\u001b[38;5;241m.\u001b[39m_expr\u001b[38;5;241m.\u001b[39malias(name)\n\u001b[1;32m    569\u001b[0m     \u001b[38;5;28;01mreturn\u001b[39;00m Expression\u001b[38;5;241m.\u001b[39m_from_pyexpr(expr)\n",
      "\u001b[0;31mAssertionError\u001b[0m: "
     ]
    }
   ],
   "source": [
    "df_img = daft.from_glob_path(GLOB_PATH)\n",
    "\n",
    "# drop any files too small to be images\n",
    "df_img = df_img.filter(df_img[\"size\"] > MIN_BYTES)\n",
    "\n",
    "# create image name column\n",
    "df_img = df_img.with_column(\"image_name\",\n",
    "                   df_img[\"path\"].str.split(\"/\").list.get(\n",
    "                       -1).cast(str))\n",
    "\n",
    "# filter to distinct names\n",
    "df_img = df_img.groupby(\"image_name\").agg(c.any_value().alias(c.name) for c in df_img.columns)\n"
   ]
  }
 ],
 "metadata": {
  "kernelspec": {
   "display_name": ".venv",
   "language": "python",
   "name": "python3"
  },
  "language_info": {
   "codemirror_mode": {
    "name": "ipython",
    "version": 3
   },
   "file_extension": ".py",
   "mimetype": "text/x-python",
   "name": "python",
   "nbconvert_exporter": "python",
   "pygments_lexer": "ipython3",
   "version": "3.12.7"
  }
 },
 "nbformat": 4,
 "nbformat_minor": 2
}
